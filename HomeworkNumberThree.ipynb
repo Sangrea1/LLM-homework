{
 "cells": [
  {
   "cell_type": "markdown",
   "id": "67af1ca7-af07-46aa-8dfa-eaf0873a5d0f",
   "metadata": {},
   "source": [
    "# Домашнее задание номер 3"
   ]
  },
  {
   "cell_type": "markdown",
   "id": "cdeb5b84-a129-4084-a3f1-58ce6e9d05fb",
   "metadata": {},
   "source": [
    "Возьмите датасет с токсичными / нейтральными комментариями на русском языке:\n",
    "https://www.kaggle.com/datasets/blackmoon/russian-language-toxic-comments/data\n",
    "Разделите датасет на обучающую и тестовую выборки. В качестве тестовой выборки\n",
    "отделите 10% от всех данных.\n",
    "Обучите бинарный классификатор на обучающей выборке, замерьте метрику F-score на\n",
    "тестовой выборке.\n",
    "Вы можете использовать как линейные модели, так и дообучать трансформеры. Можно\n",
    "обучить несколько разных классификаторов и сравнить их качество"
   ]
  },
  {
   "cell_type": "markdown",
   "id": "1cff2bdc-3446-44a8-85b2-b58feaddf7d8",
   "metadata": {},
   "source": [
    "### Решение:"
   ]
  },
  {
   "cell_type": "markdown",
   "id": "19c08145-bd79-4e26-a410-23e78905ec71",
   "metadata": {},
   "source": [
    "#### Датасет"
   ]
  },
  {
   "cell_type": "markdown",
   "id": "1af5495b-2514-443d-98b5-d985a1869629",
   "metadata": {},
   "source": [
    "1. Загрузка и очистка датасета"
   ]
  },
  {
   "cell_type": "code",
   "execution_count": 1,
   "id": "c2221f3b-4d56-480b-8309-ccfc292c3c1c",
   "metadata": {},
   "outputs": [
    {
     "name": "stdout",
     "output_type": "stream",
     "text": [
      "Sentiment\n",
      "positive    9586\n",
      "negative    4826\n",
      "Name: count, dtype: int64\n"
     ]
    }
   ],
   "source": [
    "import numpy as np\n",
    "import pandas as pd\n",
    "\n",
    "data = pd.read_csv('input/labeled.csv')\n",
    "data = data.dropna()\n",
    "data_filtered = data.loc[data['toxic'].isin({0, 1})]\n",
    "df = data_filtered\n",
    "df = df.reset_index(drop=True)\n",
    "df.loc[(df['toxic'] == 0, 'Sentiment')] = 'positive'\n",
    "df.loc[(df['toxic'] == 1, 'Sentiment')] = 'negative'\n",
    "df = df.loc[df['comment'].apply(lambda text: len(text) >= 20)]\n",
    "print(df['Sentiment'].value_counts())\n"
   ]
  },
  {
   "cell_type": "markdown",
   "id": "92710c2d-a84d-401c-bfb0-9b60953181b3",
   "metadata": {},
   "source": [
    "2. Разделение на обучающие и тестовые группы"
   ]
  },
  {
   "cell_type": "code",
   "execution_count": 2,
   "id": "5be11512-2d7f-4fbd-8c59-844216c46d9c",
   "metadata": {},
   "outputs": [
    {
     "name": "stdout",
     "output_type": "stream",
     "text": [
      "len(X_train) = 12970\n",
      "len(y_train) = 12970\n",
      "len(X_test) = 1442\n",
      "len(y_test) = 1442\n"
     ]
    }
   ],
   "source": [
    "from sklearn.model_selection import train_test_split\n",
    "\n",
    "texts = df['comment'].values\n",
    "labels = df['Sentiment'].values\n",
    "X_train, X_test, y_train, y_test = train_test_split(\n",
    "    texts,\n",
    "    labels,\n",
    "    test_size=0.1,\n",
    "    random_state=1,\n",
    ")\n",
    "print(f'len(X_train) = {len(X_train)}')\n",
    "print(f'len(y_train) = {len(y_train)}')\n",
    "print(f'len(X_test) = {len(X_test)}')\n",
    "print(f'len(y_test) = {len(y_test)}')"
   ]
  },
  {
   "cell_type": "markdown",
   "id": "b8c273a9-89a3-4da7-b217-d383101f234a",
   "metadata": {},
   "source": [
    "#### 2.Использование предварительно подготовленнои модель трансформера HuggingFace\r\n",
    "Модель: https://huggingface.co/cointegrated/rubert-tiny-sentiment-balanced\r\n",
    "У нее 12 миллионов параметродель"
   ]
  },
  {
   "cell_type": "markdown",
   "id": "d9bb8503-f2f2-4ea9-b99b-190033c63a62",
   "metadata": {},
   "source": [
    "1. Подготовка токенизатора и модели"
   ]
  },
  {
   "cell_type": "code",
   "execution_count": 3,
   "id": "2879ccf7-3e0f-4776-adcf-f83ca04a9c88",
   "metadata": {},
   "outputs": [],
   "source": [
    "!pip install transformers sentencepiece --quiet"
   ]
  },
  {
   "cell_type": "code",
   "execution_count": 4,
   "id": "9f1a20aa-2520-4eca-94b6-330ef2130033",
   "metadata": {},
   "outputs": [
    {
     "name": "stdout",
     "output_type": "stream",
     "text": [
      "Requirement already satisfied: torch in c:\\users\\tabievaa\\appdata\\local\\anaconda3\\lib\\site-packages (2.3.0)\n",
      "Requirement already satisfied: filelock in c:\\users\\tabievaa\\appdata\\local\\anaconda3\\lib\\site-packages (from torch) (3.13.1)\n",
      "Requirement already satisfied: typing-extensions>=4.8.0 in c:\\users\\tabievaa\\appdata\\local\\anaconda3\\lib\\site-packages (from torch) (4.9.0)\n",
      "Requirement already satisfied: sympy in c:\\users\\tabievaa\\appdata\\local\\anaconda3\\lib\\site-packages (from torch) (1.12)\n",
      "Requirement already satisfied: networkx in c:\\users\\tabievaa\\appdata\\local\\anaconda3\\lib\\site-packages (from torch) (3.1)\n",
      "Requirement already satisfied: jinja2 in c:\\users\\tabievaa\\appdata\\local\\anaconda3\\lib\\site-packages (from torch) (3.1.3)\n",
      "Requirement already satisfied: fsspec in c:\\users\\tabievaa\\appdata\\local\\anaconda3\\lib\\site-packages (from torch) (2023.10.0)\n",
      "Requirement already satisfied: mkl<=2021.4.0,>=2021.1.1 in c:\\users\\tabievaa\\appdata\\local\\anaconda3\\lib\\site-packages (from torch) (2021.4.0)\n",
      "Requirement already satisfied: intel-openmp==2021.* in c:\\users\\tabievaa\\appdata\\local\\anaconda3\\lib\\site-packages (from mkl<=2021.4.0,>=2021.1.1->torch) (2021.4.0)\n",
      "Requirement already satisfied: tbb==2021.* in c:\\users\\tabievaa\\appdata\\local\\anaconda3\\lib\\site-packages (from mkl<=2021.4.0,>=2021.1.1->torch) (2021.12.0)\n",
      "Requirement already satisfied: MarkupSafe>=2.0 in c:\\users\\tabievaa\\appdata\\local\\anaconda3\\lib\\site-packages (from jinja2->torch) (2.1.3)\n",
      "Requirement already satisfied: mpmath>=0.19 in c:\\users\\tabievaa\\appdata\\local\\anaconda3\\lib\\site-packages (from sympy->torch) (1.3.0)\n",
      "Note: you may need to restart the kernel to use updated packages.\n"
     ]
    }
   ],
   "source": [
    "pip install torch"
   ]
  },
  {
   "cell_type": "code",
   "execution_count": 5,
   "id": "d3a0a834-e71f-4f65-9c9b-76017a80a10e",
   "metadata": {},
   "outputs": [
    {
     "name": "stderr",
     "output_type": "stream",
     "text": [
      "C:\\Users\\Tabievaa\\AppData\\Local\\anaconda3\\Lib\\site-packages\\huggingface_hub\\file_download.py:1132: FutureWarning: `resume_download` is deprecated and will be removed in version 1.0.0. Downloads always resume when possible. If you want to force a new download, use `force_download=True`.\n",
      "  warnings.warn(\n"
     ]
    }
   ],
   "source": [
    "import torch\n",
    "from transformers import AutoTokenizer, AutoModelForSequenceClassification\n",
    "\n",
    "model_checkpoint = 'cointegrated/rubert-tiny-sentiment-balanced'\n",
    "tokenizer = AutoTokenizer.from_pretrained(model_checkpoint)\n",
    "model_pretrained = AutoModelForSequenceClassification.from_pretrained(model_checkpoint)\n",
    "if torch.cuda.is_available():\n",
    "    model_pretrained.cuda()"
   ]
  },
  {
   "cell_type": "markdown",
   "id": "94784558-a255-4c65-ba3f-5479400cddbf",
   "metadata": {},
   "source": [
    "2. Определение независимой от модели функции, которая будет возвращать прогноз для одного текста"
   ]
  },
  {
   "cell_type": "code",
   "execution_count": 6,
   "id": "03a2f692-1bfa-4676-8315-b303448331f5",
   "metadata": {},
   "outputs": [],
   "source": [
    "from typing_extensions import Literal  \n",
    "# from typing import Literal  # in Python 3.8+\n",
    "\n",
    "def predict(\n",
    "    model: AutoModelForSequenceClassification, \n",
    "    text: str, \n",
    "    return_type: Literal['label', 'score', 'proba'] = 'label',\n",
    "):\n",
    "    with torch.no_grad():\n",
    "        inputs = tokenizer(text, return_tensors='pt', truncation=True, padding=True).to(model.device)\n",
    "        proba = torch.sigmoid(model(**inputs).logits).cpu().numpy()[0]\n",
    "    if return_type == 'label':\n",
    "        return model.config.id2label[proba.argmax()]\n",
    "    elif return_type == 'score':\n",
    "        return proba.dot([-1, 0, 1])\n",
    "    return proba"
   ]
  },
  {
   "cell_type": "markdown",
   "id": "269c470f-0438-4c0f-8a8e-b1fdebd690ad",
   "metadata": {},
   "source": [
    "3. Тесты функции"
   ]
  },
  {
   "cell_type": "code",
   "execution_count": 7,
   "id": "5ccaabb6-77d4-4a82-8a5d-694746630a66",
   "metadata": {},
   "outputs": [
    {
     "name": "stdout",
     "output_type": "stream",
     "text": [
      "Очень рад, что смог помочь!\n",
      "positive\n",
      "0.9454245362430811\n",
      "[0.02615919 0.4202152  0.9715837 ]\n",
      "Ну кто же так делает?\n",
      "neutral\n",
      "-0.22903871908783913\n",
      "[0.2757948  0.97148424 0.04675609]\n",
      "Очень не очень\n",
      "neutral\n",
      "-0.39927227050065994\n",
      "[0.5195271  0.8157217  0.12025481]\n"
     ]
    }
   ],
   "source": [
    "textes = ['Очень рад, что смог помочь!', 'Ну кто же так делает?', 'Очень не очень']\n",
    "for text in textes:\n",
    "    # classify the text\n",
    "    print(text)\n",
    "    print(predict(model_pretrained, text, 'label'))  # negative\n",
    "    # score the text on the scale from -1 (very negative) to +1 (very positive)\n",
    "    print(predict(model_pretrained, text, 'score'))  # -0.5894946306943893\n",
    "    # calculate probabilities of all labels\n",
    "    print(predict(model_pretrained, text, 'proba'))  # [0.7870447  0.4947824  0.19755007]"
   ]
  },
  {
   "cell_type": "markdown",
   "id": "168e73a7-1b12-471f-8598-b3081aa5cced",
   "metadata": {},
   "source": [
    "4. Определение независимой от модели функции для оценки на тестовом наборе"
   ]
  },
  {
   "cell_type": "code",
   "execution_count": 8,
   "id": "2b56ce98-b1fb-4fb3-97d2-8aa86e582d25",
   "metadata": {},
   "outputs": [],
   "source": [
    "from typing import Optional\n",
    "\n",
    "from sklearn.metrics import classification_report\n",
    "from tqdm.auto import tqdm\n",
    "\n",
    "def evaluate_model(\n",
    "    model: AutoModelForSequenceClassification, \n",
    "    subset: Optional[int] = None,\n",
    "):\n",
    "    y_pred = []\n",
    "    \n",
    "    if subset is None:\n",
    "        subset = X_test.shape[0]\n",
    "    \n",
    "    for x in tqdm(X_test[:subset]):\n",
    "        prediction = predict(model, x)\n",
    "        y_pred.append(prediction)\n",
    "        \n",
    "    print(classification_report(y_test[:subset], y_pred))"
   ]
  },
  {
   "cell_type": "code",
   "execution_count": 9,
   "id": "4038464f-e33d-4612-95bf-ae3f92f85b0e",
   "metadata": {},
   "outputs": [
    {
     "data": {
      "application/vnd.jupyter.widget-view+json": {
       "model_id": "f1cbd7eb07fa444596d692b100769568",
       "version_major": 2,
       "version_minor": 0
      },
      "text/plain": [
       "  0%|          | 0/1442 [00:00<?, ?it/s]"
      ]
     },
     "metadata": {},
     "output_type": "display_data"
    },
    {
     "name": "stdout",
     "output_type": "stream",
     "text": [
      "              precision    recall  f1-score   support\n",
      "\n",
      "    negative       0.51      0.62      0.56       494\n",
      "     neutral       0.00      0.00      0.00         0\n",
      "    positive       0.75      0.12      0.20       948\n",
      "\n",
      "    accuracy                           0.29      1442\n",
      "   macro avg       0.42      0.25      0.25      1442\n",
      "weighted avg       0.67      0.29      0.32      1442\n",
      "\n"
     ]
    },
    {
     "name": "stderr",
     "output_type": "stream",
     "text": [
      "C:\\Users\\Tabievaa\\AppData\\Local\\anaconda3\\Lib\\site-packages\\sklearn\\metrics\\_classification.py:1344: UndefinedMetricWarning: Recall and F-score are ill-defined and being set to 0.0 in labels with no true samples. Use `zero_division` parameter to control this behavior.\n",
      "  _warn_prf(average, modifier, msg_start, len(result))\n",
      "C:\\Users\\Tabievaa\\AppData\\Local\\anaconda3\\Lib\\site-packages\\sklearn\\metrics\\_classification.py:1344: UndefinedMetricWarning: Recall and F-score are ill-defined and being set to 0.0 in labels with no true samples. Use `zero_division` parameter to control this behavior.\n",
      "  _warn_prf(average, modifier, msg_start, len(result))\n",
      "C:\\Users\\Tabievaa\\AppData\\Local\\anaconda3\\Lib\\site-packages\\sklearn\\metrics\\_classification.py:1344: UndefinedMetricWarning: Recall and F-score are ill-defined and being set to 0.0 in labels with no true samples. Use `zero_division` parameter to control this behavior.\n",
      "  _warn_prf(average, modifier, msg_start, len(result))\n"
     ]
    }
   ],
   "source": [
    "evaluate_model(model_pretrained)"
   ]
  },
  {
   "cell_type": "code",
   "execution_count": 10,
   "id": "6a30e11f-84c0-4be9-9008-e404da98be35",
   "metadata": {},
   "outputs": [
    {
     "data": {
      "text/plain": [
       "0.38"
      ]
     },
     "execution_count": 10,
     "metadata": {},
     "output_type": "execute_result"
    }
   ],
   "source": [
    "(0.56 + 0.20) / 2"
   ]
  },
  {
   "cell_type": "markdown",
   "id": "3dff6c65-b2f4-444b-b14a-0d793791179e",
   "metadata": {},
   "source": [
    "#### 3. Доработка предварительно обученной модели на основе нашего набора данных"
   ]
  },
  {
   "cell_type": "markdown",
   "id": "c40fceed-91a0-472c-93c1-0d911018cce7",
   "metadata": {},
   "source": [
    "1. Разделение обучающих данных на train и dev"
   ]
  },
  {
   "cell_type": "code",
   "execution_count": 11,
   "id": "cc3d59ec-ec2c-480e-ae6f-805534944d3c",
   "metadata": {},
   "outputs": [
    {
     "name": "stdout",
     "output_type": "stream",
     "text": [
      "Requirement already satisfied: datasets in c:\\users\\tabievaa\\appdata\\local\\anaconda3\\lib\\site-packages (2.19.1)\n",
      "Requirement already satisfied: filelock in c:\\users\\tabievaa\\appdata\\local\\anaconda3\\lib\\site-packages (from datasets) (3.13.1)\n",
      "Requirement already satisfied: numpy>=1.17 in c:\\users\\tabievaa\\appdata\\local\\anaconda3\\lib\\site-packages (from datasets) (1.26.4)\n",
      "Requirement already satisfied: pyarrow>=12.0.0 in c:\\users\\tabievaa\\appdata\\local\\anaconda3\\lib\\site-packages (from datasets) (14.0.2)\n",
      "Requirement already satisfied: pyarrow-hotfix in c:\\users\\tabievaa\\appdata\\local\\anaconda3\\lib\\site-packages (from datasets) (0.6)\n",
      "Requirement already satisfied: dill<0.3.9,>=0.3.0 in c:\\users\\tabievaa\\appdata\\local\\anaconda3\\lib\\site-packages (from datasets) (0.3.8)\n",
      "Requirement already satisfied: pandas in c:\\users\\tabievaa\\appdata\\local\\anaconda3\\lib\\site-packages (from datasets) (2.1.4)\n",
      "Requirement already satisfied: requests>=2.19.0 in c:\\users\\tabievaa\\appdata\\local\\anaconda3\\lib\\site-packages (from datasets) (2.31.0)\n",
      "Requirement already satisfied: tqdm>=4.62.1 in c:\\users\\tabievaa\\appdata\\local\\anaconda3\\lib\\site-packages (from datasets) (4.65.0)\n",
      "Requirement already satisfied: xxhash in c:\\users\\tabievaa\\appdata\\local\\anaconda3\\lib\\site-packages (from datasets) (3.4.1)\n",
      "Requirement already satisfied: multiprocess in c:\\users\\tabievaa\\appdata\\local\\anaconda3\\lib\\site-packages (from datasets) (0.70.16)\n",
      "Requirement already satisfied: fsspec<=2024.3.1,>=2023.1.0 in c:\\users\\tabievaa\\appdata\\local\\anaconda3\\lib\\site-packages (from fsspec[http]<=2024.3.1,>=2023.1.0->datasets) (2023.10.0)\n",
      "Requirement already satisfied: aiohttp in c:\\users\\tabievaa\\appdata\\local\\anaconda3\\lib\\site-packages (from datasets) (3.9.3)\n",
      "Requirement already satisfied: huggingface-hub>=0.21.2 in c:\\users\\tabievaa\\appdata\\local\\anaconda3\\lib\\site-packages (from datasets) (0.23.0)\n",
      "Requirement already satisfied: packaging in c:\\users\\tabievaa\\appdata\\local\\anaconda3\\lib\\site-packages (from datasets) (23.1)\n",
      "Requirement already satisfied: pyyaml>=5.1 in c:\\users\\tabievaa\\appdata\\local\\anaconda3\\lib\\site-packages (from datasets) (6.0.1)\n",
      "Requirement already satisfied: aiosignal>=1.1.2 in c:\\users\\tabievaa\\appdata\\local\\anaconda3\\lib\\site-packages (from aiohttp->datasets) (1.2.0)\n",
      "Requirement already satisfied: attrs>=17.3.0 in c:\\users\\tabievaa\\appdata\\local\\anaconda3\\lib\\site-packages (from aiohttp->datasets) (23.1.0)\n",
      "Requirement already satisfied: frozenlist>=1.1.1 in c:\\users\\tabievaa\\appdata\\local\\anaconda3\\lib\\site-packages (from aiohttp->datasets) (1.4.0)\n",
      "Requirement already satisfied: multidict<7.0,>=4.5 in c:\\users\\tabievaa\\appdata\\local\\anaconda3\\lib\\site-packages (from aiohttp->datasets) (6.0.4)\n",
      "Requirement already satisfied: yarl<2.0,>=1.0 in c:\\users\\tabievaa\\appdata\\local\\anaconda3\\lib\\site-packages (from aiohttp->datasets) (1.9.3)\n",
      "Requirement already satisfied: typing-extensions>=3.7.4.3 in c:\\users\\tabievaa\\appdata\\local\\anaconda3\\lib\\site-packages (from huggingface-hub>=0.21.2->datasets) (4.9.0)\n",
      "Requirement already satisfied: charset-normalizer<4,>=2 in c:\\users\\tabievaa\\appdata\\local\\anaconda3\\lib\\site-packages (from requests>=2.19.0->datasets) (2.0.4)\n",
      "Requirement already satisfied: idna<4,>=2.5 in c:\\users\\tabievaa\\appdata\\local\\anaconda3\\lib\\site-packages (from requests>=2.19.0->datasets) (3.4)\n",
      "Requirement already satisfied: urllib3<3,>=1.21.1 in c:\\users\\tabievaa\\appdata\\local\\anaconda3\\lib\\site-packages (from requests>=2.19.0->datasets) (2.0.7)\n",
      "Requirement already satisfied: certifi>=2017.4.17 in c:\\users\\tabievaa\\appdata\\local\\anaconda3\\lib\\site-packages (from requests>=2.19.0->datasets) (2024.2.2)\n",
      "Requirement already satisfied: colorama in c:\\users\\tabievaa\\appdata\\local\\anaconda3\\lib\\site-packages (from tqdm>=4.62.1->datasets) (0.4.6)\n",
      "Requirement already satisfied: python-dateutil>=2.8.2 in c:\\users\\tabievaa\\appdata\\local\\anaconda3\\lib\\site-packages (from pandas->datasets) (2.8.2)\n",
      "Requirement already satisfied: pytz>=2020.1 in c:\\users\\tabievaa\\appdata\\local\\anaconda3\\lib\\site-packages (from pandas->datasets) (2023.3.post1)\n",
      "Requirement already satisfied: tzdata>=2022.1 in c:\\users\\tabievaa\\appdata\\local\\anaconda3\\lib\\site-packages (from pandas->datasets) (2023.3)\n",
      "Requirement already satisfied: six>=1.5 in c:\\users\\tabievaa\\appdata\\local\\anaconda3\\lib\\site-packages (from python-dateutil>=2.8.2->pandas->datasets) (1.16.0)\n",
      "Note: you may need to restart the kernel to use updated packages.\n"
     ]
    }
   ],
   "source": [
    "pip install datasets"
   ]
  },
  {
   "cell_type": "code",
   "execution_count": 12,
   "id": "c47b0f20-f64a-466c-be2f-6d785832f53b",
   "metadata": {},
   "outputs": [
    {
     "data": {
      "text/plain": [
       "DatasetDict({\n",
       "    train: Dataset({\n",
       "        features: ['text', 'label'],\n",
       "        num_rows: 10000\n",
       "    })\n",
       "    dev: Dataset({\n",
       "        features: ['text', 'label'],\n",
       "        num_rows: 2970\n",
       "    })\n",
       "})"
      ]
     },
     "execution_count": 12,
     "metadata": {},
     "output_type": "execute_result"
    }
   ],
   "source": [
    "from datasets import Dataset, DatasetDict\n",
    "\n",
    "n_train_examples = 10000\n",
    "n_dev_examples = 5000\n",
    "train_df = pd.DataFrame(\n",
    "    {\n",
    "        'text': X_train[:n_train_examples],\n",
    "        'label': y_train[:n_train_examples],\n",
    "    }\n",
    ")\n",
    "dev_df = pd.DataFrame(\n",
    "    {\n",
    "        'text': X_train[n_train_examples:n_train_examples + n_dev_examples],\n",
    "        'label': y_train[n_train_examples:n_train_examples + n_dev_examples],\n",
    "    }\n",
    ")\n",
    "\n",
    "data = DatasetDict(\n",
    "    {\n",
    "        'train': Dataset.from_pandas(train_df[['text', 'label']].reset_index(drop=True)),\n",
    "        'dev': Dataset.from_pandas(dev_df[['text', 'label']].reset_index(drop=True)),\n",
    "    }\n",
    ")\n",
    "data"
   ]
  },
  {
   "cell_type": "markdown",
   "id": "795f5cd9-244f-468a-91b3-5656d627ff7d",
   "metadata": {},
   "source": [
    "2. Маркировка данных"
   ]
  },
  {
   "cell_type": "code",
   "execution_count": 13,
   "id": "69d7ae8c-04f6-4fba-bdb2-bbc59b29d166",
   "metadata": {},
   "outputs": [
    {
     "data": {
      "application/vnd.jupyter.widget-view+json": {
       "model_id": "26b49eb19e904bc4b01cf636e9ec2d87",
       "version_major": 2,
       "version_minor": 0
      },
      "text/plain": [
       "Map:   0%|          | 0/10000 [00:00<?, ? examples/s]"
      ]
     },
     "metadata": {},
     "output_type": "display_data"
    },
    {
     "data": {
      "application/vnd.jupyter.widget-view+json": {
       "model_id": "c3a5283f279245ebbf14b963e084cdc4",
       "version_major": 2,
       "version_minor": 0
      },
      "text/plain": [
       "Map:   0%|          | 0/2970 [00:00<?, ? examples/s]"
      ]
     },
     "metadata": {},
     "output_type": "display_data"
    },
    {
     "data": {
      "application/vnd.jupyter.widget-view+json": {
       "model_id": "0a0c7f7bc99849f5a250c8718d68a2db",
       "version_major": 2,
       "version_minor": 0
      },
      "text/plain": [
       "Map:   0%|          | 0/10000 [00:00<?, ? examples/s]"
      ]
     },
     "metadata": {},
     "output_type": "display_data"
    },
    {
     "data": {
      "application/vnd.jupyter.widget-view+json": {
       "model_id": "53fc0fd7732b477fa0d998062c8a99ba",
       "version_major": 2,
       "version_minor": 0
      },
      "text/plain": [
       "Map:   0%|          | 0/2970 [00:00<?, ? examples/s]"
      ]
     },
     "metadata": {},
     "output_type": "display_data"
    },
    {
     "data": {
      "text/plain": [
       "DatasetDict({\n",
       "    train: Dataset({\n",
       "        features: ['label', 'input_ids', 'token_type_ids', 'attention_mask'],\n",
       "        num_rows: 10000\n",
       "    })\n",
       "    dev: Dataset({\n",
       "        features: ['label', 'input_ids', 'token_type_ids', 'attention_mask'],\n",
       "        num_rows: 2970\n",
       "    })\n",
       "})"
      ]
     },
     "execution_count": 13,
     "metadata": {},
     "output_type": "execute_result"
    }
   ],
   "source": [
    "all_labels = ['negative', 'neutral', 'positive']\n",
    "data_tokenized = data.map(\n",
    "    lambda row: tokenizer(row['text'], truncation=True), batched=True, remove_columns=['text']\n",
    ")\n",
    "data_tokenized = data_tokenized.map(\n",
    "    lambda row: {'label': [all_labels.index(label) for label in row['label']]}, batched=True\n",
    ")\n",
    "data_tokenized"
   ]
  },
  {
   "cell_type": "markdown",
   "id": "692bb472-c6a5-468c-9880-b6f21ba51663",
   "metadata": {},
   "source": [
    "3. Подготовка к обучению"
   ]
  },
  {
   "cell_type": "code",
   "execution_count": 14,
   "id": "968cab32-3af0-4b55-a567-56785009879d",
   "metadata": {},
   "outputs": [
    {
     "name": "stdout",
     "output_type": "stream",
     "text": [
      "Requirement already satisfied: evaluate in c:\\users\\tabievaa\\appdata\\local\\anaconda3\\lib\\site-packages (0.4.2)\n",
      "Requirement already satisfied: datasets>=2.0.0 in c:\\users\\tabievaa\\appdata\\local\\anaconda3\\lib\\site-packages (from evaluate) (2.19.1)\n",
      "Requirement already satisfied: numpy>=1.17 in c:\\users\\tabievaa\\appdata\\local\\anaconda3\\lib\\site-packages (from evaluate) (1.26.4)\n",
      "Requirement already satisfied: dill in c:\\users\\tabievaa\\appdata\\local\\anaconda3\\lib\\site-packages (from evaluate) (0.3.8)\n",
      "Requirement already satisfied: pandas in c:\\users\\tabievaa\\appdata\\local\\anaconda3\\lib\\site-packages (from evaluate) (2.1.4)\n",
      "Requirement already satisfied: requests>=2.19.0 in c:\\users\\tabievaa\\appdata\\local\\anaconda3\\lib\\site-packages (from evaluate) (2.31.0)\n",
      "Requirement already satisfied: tqdm>=4.62.1 in c:\\users\\tabievaa\\appdata\\local\\anaconda3\\lib\\site-packages (from evaluate) (4.65.0)\n",
      "Requirement already satisfied: xxhash in c:\\users\\tabievaa\\appdata\\local\\anaconda3\\lib\\site-packages (from evaluate) (3.4.1)\n",
      "Requirement already satisfied: multiprocess in c:\\users\\tabievaa\\appdata\\local\\anaconda3\\lib\\site-packages (from evaluate) (0.70.16)\n",
      "Requirement already satisfied: fsspec>=2021.05.0 in c:\\users\\tabievaa\\appdata\\local\\anaconda3\\lib\\site-packages (from fsspec[http]>=2021.05.0->evaluate) (2023.10.0)\n",
      "Requirement already satisfied: huggingface-hub>=0.7.0 in c:\\users\\tabievaa\\appdata\\local\\anaconda3\\lib\\site-packages (from evaluate) (0.23.0)\n",
      "Requirement already satisfied: packaging in c:\\users\\tabievaa\\appdata\\local\\anaconda3\\lib\\site-packages (from evaluate) (23.1)\n",
      "Requirement already satisfied: filelock in c:\\users\\tabievaa\\appdata\\local\\anaconda3\\lib\\site-packages (from datasets>=2.0.0->evaluate) (3.13.1)\n",
      "Requirement already satisfied: pyarrow>=12.0.0 in c:\\users\\tabievaa\\appdata\\local\\anaconda3\\lib\\site-packages (from datasets>=2.0.0->evaluate) (14.0.2)\n",
      "Requirement already satisfied: pyarrow-hotfix in c:\\users\\tabievaa\\appdata\\local\\anaconda3\\lib\\site-packages (from datasets>=2.0.0->evaluate) (0.6)\n",
      "Requirement already satisfied: aiohttp in c:\\users\\tabievaa\\appdata\\local\\anaconda3\\lib\\site-packages (from datasets>=2.0.0->evaluate) (3.9.3)\n",
      "Requirement already satisfied: pyyaml>=5.1 in c:\\users\\tabievaa\\appdata\\local\\anaconda3\\lib\\site-packages (from datasets>=2.0.0->evaluate) (6.0.1)\n",
      "Requirement already satisfied: typing-extensions>=3.7.4.3 in c:\\users\\tabievaa\\appdata\\local\\anaconda3\\lib\\site-packages (from huggingface-hub>=0.7.0->evaluate) (4.9.0)\n",
      "Requirement already satisfied: charset-normalizer<4,>=2 in c:\\users\\tabievaa\\appdata\\local\\anaconda3\\lib\\site-packages (from requests>=2.19.0->evaluate) (2.0.4)\n",
      "Requirement already satisfied: idna<4,>=2.5 in c:\\users\\tabievaa\\appdata\\local\\anaconda3\\lib\\site-packages (from requests>=2.19.0->evaluate) (3.4)\n",
      "Requirement already satisfied: urllib3<3,>=1.21.1 in c:\\users\\tabievaa\\appdata\\local\\anaconda3\\lib\\site-packages (from requests>=2.19.0->evaluate) (2.0.7)\n",
      "Requirement already satisfied: certifi>=2017.4.17 in c:\\users\\tabievaa\\appdata\\local\\anaconda3\\lib\\site-packages (from requests>=2.19.0->evaluate) (2024.2.2)\n",
      "Requirement already satisfied: colorama in c:\\users\\tabievaa\\appdata\\local\\anaconda3\\lib\\site-packages (from tqdm>=4.62.1->evaluate) (0.4.6)\n",
      "Requirement already satisfied: python-dateutil>=2.8.2 in c:\\users\\tabievaa\\appdata\\local\\anaconda3\\lib\\site-packages (from pandas->evaluate) (2.8.2)\n",
      "Requirement already satisfied: pytz>=2020.1 in c:\\users\\tabievaa\\appdata\\local\\anaconda3\\lib\\site-packages (from pandas->evaluate) (2023.3.post1)\n",
      "Requirement already satisfied: tzdata>=2022.1 in c:\\users\\tabievaa\\appdata\\local\\anaconda3\\lib\\site-packages (from pandas->evaluate) (2023.3)\n",
      "Requirement already satisfied: aiosignal>=1.1.2 in c:\\users\\tabievaa\\appdata\\local\\anaconda3\\lib\\site-packages (from aiohttp->datasets>=2.0.0->evaluate) (1.2.0)\n",
      "Requirement already satisfied: attrs>=17.3.0 in c:\\users\\tabievaa\\appdata\\local\\anaconda3\\lib\\site-packages (from aiohttp->datasets>=2.0.0->evaluate) (23.1.0)\n",
      "Requirement already satisfied: frozenlist>=1.1.1 in c:\\users\\tabievaa\\appdata\\local\\anaconda3\\lib\\site-packages (from aiohttp->datasets>=2.0.0->evaluate) (1.4.0)\n",
      "Requirement already satisfied: multidict<7.0,>=4.5 in c:\\users\\tabievaa\\appdata\\local\\anaconda3\\lib\\site-packages (from aiohttp->datasets>=2.0.0->evaluate) (6.0.4)\n",
      "Requirement already satisfied: yarl<2.0,>=1.0 in c:\\users\\tabievaa\\appdata\\local\\anaconda3\\lib\\site-packages (from aiohttp->datasets>=2.0.0->evaluate) (1.9.3)\n",
      "Requirement already satisfied: six>=1.5 in c:\\users\\tabievaa\\appdata\\local\\anaconda3\\lib\\site-packages (from python-dateutil>=2.8.2->pandas->evaluate) (1.16.0)\n"
     ]
    }
   ],
   "source": [
    "!pip install evaluate"
   ]
  },
  {
   "cell_type": "code",
   "execution_count": 16,
   "id": "cdb45f6a-a58d-41b1-ad7c-916874b44b09",
   "metadata": {},
   "outputs": [],
   "source": [
    "import evaluate\n",
    "from transformers import DataCollatorWithPadding, TrainingArguments, Trainer\n",
    "\n",
    "data_collator = DataCollatorWithPadding(tokenizer)\n",
    "\n",
    "training_args = TrainingArguments(\n",
    "    output_dir='test_trainer', \n",
    "    evaluation_strategy='epoch',\n",
    "    report_to = None\n",
    ")\n",
    "metric = evaluate.load('accuracy')\n",
    "\n",
    "def compute_metrics(eval_pred):\n",
    "    logits, labels = eval_pred\n",
    "    predictions = np.argmax(logits, axis=-1)\n",
    "    return metric.compute(\n",
    "        predictions=predictions, \n",
    "        references=labels,\n",
    "    )\n",
    "\n",
    "trainer = Trainer(\n",
    "    model=model_pretrained,\n",
    "    args=training_args,\n",
    "    train_dataset=data_tokenized['train'],\n",
    "    eval_dataset=data_tokenized['dev'],\n",
    "    data_collator=data_collator,\n",
    "    compute_metrics=compute_metrics,\n",
    ")"
   ]
  },
  {
   "cell_type": "markdown",
   "id": "138eaba3-ca04-4073-a7bf-7e816a9e81f7",
   "metadata": {},
   "source": [
    "4. Обучение и сохранение модели"
   ]
  },
  {
   "cell_type": "code",
   "execution_count": 17,
   "id": "39ac36d1-92bf-4e7a-afab-c58cf30f2f87",
   "metadata": {},
   "outputs": [
    {
     "data": {
      "text/html": [
       "\n",
       "    <div>\n",
       "      \n",
       "      <progress value='3750' max='3750' style='width:300px; height:20px; vertical-align: middle;'></progress>\n",
       "      [3750/3750 1:06:00, Epoch 3/3]\n",
       "    </div>\n",
       "    <table border=\"1\" class=\"dataframe\">\n",
       "  <thead>\n",
       " <tr style=\"text-align: left;\">\n",
       "      <th>Epoch</th>\n",
       "      <th>Training Loss</th>\n",
       "      <th>Validation Loss</th>\n",
       "      <th>Accuracy</th>\n",
       "    </tr>\n",
       "  </thead>\n",
       "  <tbody>\n",
       "    <tr>\n",
       "      <td>1</td>\n",
       "      <td>0.351700</td>\n",
       "      <td>0.290357</td>\n",
       "      <td>0.891919</td>\n",
       "    </tr>\n",
       "    <tr>\n",
       "      <td>2</td>\n",
       "      <td>0.243600</td>\n",
       "      <td>0.372831</td>\n",
       "      <td>0.897643</td>\n",
       "    </tr>\n",
       "    <tr>\n",
       "      <td>3</td>\n",
       "      <td>0.172000</td>\n",
       "      <td>0.419705</td>\n",
       "      <td>0.898990</td>\n",
       "    </tr>\n",
       "  </tbody>\n",
       "</table><p>"
      ],
      "text/plain": [
       "<IPython.core.display.HTML object>"
      ]
     },
     "metadata": {},
     "output_type": "display_data"
    },
    {
     "data": {
      "text/plain": [
       "TrainOutput(global_step=3750, training_loss=0.26211282755533855, metrics={'train_runtime': 3960.5008, 'train_samples_per_second': 7.575, 'train_steps_per_second': 0.947, 'total_flos': 74876167844064.0, 'train_loss': 0.26211282755533855, 'epoch': 3.0})"
      ]
     },
     "execution_count": 17,
     "metadata": {},
     "output_type": "execute_result"
    }
   ],
   "source": [
    "trainer.train()"
   ]
  },
  {
   "cell_type": "code",
   "execution_count": 19,
   "id": "e667d838-22cb-4112-9da9-b0df86acaf5c",
   "metadata": {},
   "outputs": [],
   "source": [
    "trainer.save_model('my_homework_model')"
   ]
  },
  {
   "cell_type": "markdown",
   "id": "61ac77f1-69d8-4f14-b119-d83ba2672236",
   "metadata": {},
   "source": [
    "5. Загрузка модели"
   ]
  },
  {
   "cell_type": "code",
   "execution_count": 20,
   "id": "78099877-46bd-492e-864a-033462e2b087",
   "metadata": {},
   "outputs": [
    {
     "name": "stderr",
     "output_type": "stream",
     "text": [
      "C:\\Users\\Tabievaa\\AppData\\Local\\anaconda3\\Lib\\site-packages\\huggingface_hub\\file_download.py:1132: FutureWarning: `resume_download` is deprecated and will be removed in version 1.0.0. Downloads always resume when possible. If you want to force a new download, use `force_download=True`.\n",
      "  warnings.warn(\n"
     ]
    }
   ],
   "source": [
    "checkpoint = 'my_homework_model'\n",
    "tokenizer = AutoTokenizer.from_pretrained('cointegrated/rubert-tiny-sentiment-balanced')\n",
    "model_finetuned = AutoModelForSequenceClassification.from_pretrained(checkpoint)\n",
    "if torch.cuda.is_available():\n",
    "    model_finetuned.cuda()"
   ]
  },
  {
   "cell_type": "code",
   "execution_count": 21,
   "id": "4606d6f6-af5a-4b9a-ab2d-6b3f4acefc5b",
   "metadata": {},
   "outputs": [
    {
     "name": "stdout",
     "output_type": "stream",
     "text": [
      "positive\n",
      "negative\n",
      "negative\n",
      "negative\n",
      "positive\n"
     ]
    }
   ],
   "source": [
    "examples = [\n",
    "    'Рад, что удалось помочь!',\n",
    "    'Как же все херово',\n",
    "    'Пощады, сапсите, помогите',\n",
    "    'У Васи ужасное настроение.',\n",
    "    'А что в итоге надо делать?))'\n",
    "]\n",
    "for example in examples:\n",
    "    print(predict(model_finetuned, example))"
   ]
  },
  {
   "cell_type": "markdown",
   "id": "82b11263-7a3d-432f-8adc-9d33dfa3fe3a",
   "metadata": {},
   "source": [
    "6. Оценка"
   ]
  },
  {
   "cell_type": "code",
   "execution_count": 24,
   "id": "dc7c929a-e607-4132-be6f-5e84eeecac7b",
   "metadata": {},
   "outputs": [
    {
     "name": "stdout",
     "output_type": "stream",
     "text": [
      "my_homework_model\n"
     ]
    },
    {
     "data": {
      "application/vnd.jupyter.widget-view+json": {
       "model_id": "89eff95e07b546279786ff44bc568356",
       "version_major": 2,
       "version_minor": 0
      },
      "text/plain": [
       "  0%|          | 0/1442 [00:00<?, ?it/s]"
      ]
     },
     "metadata": {},
     "output_type": "display_data"
    },
    {
     "name": "stdout",
     "output_type": "stream",
     "text": [
      "              precision    recall  f1-score   support\n",
      "\n",
      "    negative       0.85      0.84      0.84       494\n",
      "    positive       0.92      0.92      0.92       948\n",
      "\n",
      "    accuracy                           0.89      1442\n",
      "   macro avg       0.88      0.88      0.88      1442\n",
      "weighted avg       0.89      0.89      0.89      1442\n",
      "\n"
     ]
    }
   ],
   "source": [
    "print(checkpoint)\n",
    "evaluate_model(model_finetuned)"
   ]
  },
  {
   "cell_type": "code",
   "execution_count": 25,
   "id": "7d5ba636-3475-47df-96f1-c391febdad5f",
   "metadata": {},
   "outputs": [
    {
     "data": {
      "text/plain": [
       "0.88"
      ]
     },
     "execution_count": 25,
     "metadata": {},
     "output_type": "execute_result"
    }
   ],
   "source": [
    "(0.84 + 0.92) / 2"
   ]
  },
  {
   "cell_type": "markdown",
   "id": "ef1f2cac-6383-407b-a7e9-96c1f9742180",
   "metadata": {
    "jp-MarkdownHeadingCollapsed": true
   },
   "source": [
    "## Результат:\n",
    "* В короткие сроки удалось обучить модель на датасете негативных отзывов на русском языке;\n"
   ]
  },
  {
   "cell_type": "code",
   "execution_count": null,
   "id": "bc80cc1a-7ae3-42f1-b31c-49b61c9d977b",
   "metadata": {},
   "outputs": [],
   "source": []
  }
 ],
 "metadata": {
  "kernelspec": {
   "display_name": "Python 3 (ipykernel)",
   "language": "python",
   "name": "python3"
  },
  "language_info": {
   "codemirror_mode": {
    "name": "ipython",
    "version": 3
   },
   "file_extension": ".py",
   "mimetype": "text/x-python",
   "name": "python",
   "nbconvert_exporter": "python",
   "pygments_lexer": "ipython3",
   "version": "3.11.7"
  }
 },
 "nbformat": 4,
 "nbformat_minor": 5
}
