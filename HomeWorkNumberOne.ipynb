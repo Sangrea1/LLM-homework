{
 "cells": [
  {
   "cell_type": "markdown",
   "id": "6e5b6574-b407-4bb0-9fea-3dd53b7bb371",
   "metadata": {},
   "source": [
    "# Домашнее задание №1: будут вопросы.\n",
    "Попробуйте решить какую-либо простую задачу на русскоязычных текстах с помощью LLM. Например, разметить/суммаризировать/перевести несколько текстов. Но важно сделать это не в веб-интерфейсе, а программным способом, вызвав то или иное API (две опции ниже):\n",
    "\n",
    "1) Можете использовать GigaChat API (насколько я знаю, им можно бесплатно пользоваться физлицам, но есть лимиты). https://developers.sber.ru/portal/products/gigachat-api\n",
    "\n",
    "2) Вместо использования гигачат-АПИ можете зарегистрироваться на VseGPT: https://www.vsegpt.ru/ и попробовать различные зарубежные модели (будет стоить некоторых денег, от 250 рублей нужно положить на баланс, насколько помню). Рекомендую, например, модель Claude 3 Haiku - дёшево и сердито (около 50 копеек за вызов модели, если входной текст не очень большой). \n",
    "Все необходимые инструкции по работе с АПИ есть по ссылкам выше. От вас - питоновский скрипт или ноутбук на Google Colab с вызовом модели по АПИ. Чуть позже я расскажу, куда вы можете переслать выполненное домашнее задание.\n",
    "\n"
   ]
  },
  {
   "cell_type": "code",
   "execution_count": 1,
   "id": "44df5a5c-e6c5-4e76-a688-e7d099f1c1dd",
   "metadata": {},
   "outputs": [],
   "source": [
    "## Импортируем библиотеки и инициализируем переменные для запросов"
   ]
  },
  {
   "cell_type": "code",
   "execution_count": 2,
   "id": "cf62a500-172b-4066-807a-ea33d0f81a99",
   "metadata": {},
   "outputs": [],
   "source": [
    "# Импорт библиотек \n",
    "import os # Библиотека для взаимодействия с системой\n",
    "import requests # Библиотека для запросов\n",
    "import json # Взаимодействуем с json'чиком\n",
    "import dotenv # Импортируем dotenv чтобы не забивать переменные в среду машины\n",
    "import warnings # Манипуляции с варнингами\n",
    "\n",
    "# Не печатем варнинги в вывод\n",
    "warnings.filterwarnings(\"ignore\")\n",
    "\n",
    "# Подгружаем переменные среды\n",
    "dotenv.load_dotenv()\n",
    "\n",
    "# Параметры запроса для получения токена доступа\n",
    "auth_url = 'https://ngw.devices.sberbank.ru:9443/api/v2/oauth'\n",
    "auth_payload = 'scope=GIGACHAT_API_PERS'\n",
    "auth_headers = \\\n",
    "    {\n",
    "  'Content-Type': 'application/x-www-form-urlencoded',\n",
    "  'Accept': 'application/json',\n",
    "  'RqUID': os.environ.get('RqUID'),\n",
    "  'Authorization': 'Basic ' + os.environ.get('GigaChat_token')\n",
    "    }\n",
    "\n",
    "# Параметры запроса к GigaChat\n",
    "url = \"https://gigachat.devices.sberbank.ru/api/v1/chat/completions\"\n",
    "payload = {\n",
    "  \"model\": \"GigaChat:latest\",\n",
    "  \"n\": 1,\n",
    "  \"max_tokens\": 512,\n",
    "  \"repetition_penalty\": 1.0,\n",
    "  \"stream\": False,\n",
    "  \"update_interval\": 0,\n",
    "  \"messages\": [\n",
    "        {\n",
    "            \"role\": \"user\",\n",
    "            \"content\": \"Напиши 5 вариантов названий для космической станции\"\n",
    "        }\n",
    "    ]\n",
    "}\n",
    "headers = {\n",
    "  'Content-Type': 'application/json',\n",
    "  'Accept': 'application/json',\n",
    "  'Authorization': 0\n",
    "}\n",
    "\n",
    "# Вопросы, которые хотим задать GigaChat'у\n",
    "questions_list = [\n",
    "\"Подскажи столицу Англии\",\n",
    "\"Сколько человек нужно чтобы поменять лампочку\",\n",
    "\"Как меня зовут?\"\n",
    "]\n",
    "\n",
    "\n"
   ]
  },
  {
   "cell_type": "code",
   "execution_count": 3,
   "id": "34ec90fb-e95b-4108-8020-499316f3e470",
   "metadata": {},
   "outputs": [],
   "source": [
    "## Основной процесс"
   ]
  },
  {
   "cell_type": "code",
   "execution_count": 4,
   "id": "655f0d08-5de6-4005-b3ee-00cd0c2028ca",
   "metadata": {},
   "outputs": [
    {
     "name": "stdout",
     "output_type": "stream",
     "text": [
      "Вопрос: Подскажи столицу Англии\n",
      "\n",
      "Столицей Англии является Лондон.\n",
      "\n",
      "\n",
      "Вопрос: Сколько человек нужно чтобы поменять лампочку\n",
      "\n",
      "Количество людей, необходимых для замены лампочки, зависит от нескольких факторов, включая тип лампочки, высоту, на которой она находится, и доступность.\n",
      "\n",
      "1. Тип лампочки: Если речь идет о стандартной лампочке накаливания, то ее можно заменить самостоятельно. Однако, если это светодиодная или люминесцентная лампочка, то для ее замены может потребоваться помощь специалиста.\n",
      "\n",
      "2. Высота: Если лампочка находится на большой высоте, то может потребоваться лестница или другое приспособление для доступа к ней. В этом случае может потребоваться помощь еще одного человека для поддержки лестницы или для помощи в замене лампочки.\n",
      "\n",
      "3. Доступность: Если лампочка находится в труднодоступном месте, например, за шкафом или в углу, то может потребоваться помощь еще одного человека для доступа к ней.\n",
      "\n",
      "В общем случае, для замены лампочки обычно достаточно одного человека. Однако, если есть сомнения или опасения, лучше обратиться к специалисту.\n",
      "\n",
      "\n",
      "Вопрос: Как меня зовут?\n",
      "\n",
      "Извините, но как виртуальный помощник, я не имею доступа к личной информации о вас. Моя задача - предоставлять вам информацию и помощь на основе общедоступных данных и ваших запросов. Если вы хотите, чтобы я помог вам с чем-то конкретным, пожалуйста, уточните ваш вопрос.\n",
      "\n",
      "\n"
     ]
    }
   ],
   "source": [
    "class HomeWorkNumberOne:\n",
    "    @staticmethod\n",
    "    def GigaChat_auth():\n",
    "        # Получаем токен для запросов к GigaChat'у\n",
    "        auth_answer = requests.post(auth_url, headers=auth_headers, data=auth_payload, verify=False)\n",
    "        GigaChat_access_token = json.loads(auth_answer.text)['access_token']\n",
    "        return GigaChat_access_token\n",
    "\n",
    "    @staticmethod\n",
    "    def GigaChat_requests(access_token):\n",
    "        # Используем токен доступа для запросов к GigaChat'у \n",
    "        headers['Authorization'] = 'Bearer ' + access_token\n",
    "        # Задаем вопросы\n",
    "        for question in questions_list:\n",
    "            payload['messages'][0]['content'] = question\n",
    "            response = requests.request(\"POST\", url, headers=headers, data=json.dumps(payload), verify=False)\n",
    "            print(\"Вопрос: \" + question + \"\\n\\n\" + json.loads(response.text)['choices'][0]['message']['content'] + \"\\n\\n\")\n",
    "\n",
    "\n",
    "if __name__ == '__main__':\n",
    "    GigaChat_access_token = HomeWorkNumberOne.GigaChat_auth()\n",
    "    HomeWorkNumberOne.GigaChat_requests(GigaChat_access_token)\n",
    "    "
   ]
  }
 ],
 "metadata": {
  "kernelspec": {
   "display_name": "Python 3 (ipykernel)",
   "language": "python",
   "name": "python3"
  },
  "language_info": {
   "codemirror_mode": {
    "name": "ipython",
    "version": 3
   },
   "file_extension": ".py",
   "mimetype": "text/x-python",
   "name": "python",
   "nbconvert_exporter": "python",
   "pygments_lexer": "ipython3",
   "version": "3.11.7"
  }
 },
 "nbformat": 4,
 "nbformat_minor": 5
}
